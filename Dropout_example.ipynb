{
  "nbformat": 4,
  "nbformat_minor": 0,
  "metadata": {
    "colab": {
      "name": " Dropout_example.ipynb",
      "provenance": [],
      "collapsed_sections": []
    },
    "kernelspec": {
      "name": "python3",
      "display_name": "Python 3"
    },
    "language_info": {
      "name": "python"
    },
    "accelerator": "GPU"
  },
  "cells": [
    {
      "cell_type": "markdown",
      "source": [
        "# Bernouli Random Variable"
      ],
      "metadata": {
        "id": "Z27OcP_A2K0s"
      }
    },
    {
      "cell_type": "code",
      "source": [
        "import tensorflow as tf\n",
        "import tensorflow_probability as tfp"
      ],
      "metadata": {
        "id": "MUZK3bt62V1-"
      },
      "execution_count": null,
      "outputs": []
    },
    {
      "cell_type": "code",
      "execution_count": null,
      "metadata": {
        "colab": {
          "base_uri": "https://localhost:8080/"
        },
        "id": "PcxwKHpz2Era",
        "outputId": "5f5524dc-faed-4242-c903-e85ed4c27e3b"
      },
      "outputs": [
        {
          "output_type": "execute_result",
          "data": {
            "text/plain": [
              "<tf.Tensor: shape=(10, 1), dtype=float32, numpy=\n",
              "array([[1.],\n",
              "       [0.],\n",
              "       [0.],\n",
              "       [0.],\n",
              "       [0.],\n",
              "       [0.],\n",
              "       [0.],\n",
              "       [0.],\n",
              "       [0.],\n",
              "       [0.]], dtype=float32)>"
            ]
          },
          "metadata": {},
          "execution_count": 2
        }
      ],
      "source": [
        "prob = 0.3\n",
        "\n",
        "r = tfp.distributions.Bernoulli(probs=prob, dtype=tf.float32).sample(sample_shape=(10,1))\n",
        "r"
      ]
    },
    {
      "cell_type": "code",
      "source": [
        "y_prev = tf.random.normal((10,1))\n",
        "y_prev"
      ],
      "metadata": {
        "colab": {
          "base_uri": "https://localhost:8080/"
        },
        "id": "sM7e40WC2pth",
        "outputId": "f440e88d-4a1f-4476-f423-d0f3ba3288a1"
      },
      "execution_count": null,
      "outputs": [
        {
          "output_type": "execute_result",
          "data": {
            "text/plain": [
              "<tf.Tensor: shape=(10, 1), dtype=float32, numpy=\n",
              "array([[-0.41086623],\n",
              "       [-0.52740365],\n",
              "       [ 0.5979452 ],\n",
              "       [-2.6702442 ],\n",
              "       [-0.8477735 ],\n",
              "       [ 0.17647636],\n",
              "       [ 0.2779886 ],\n",
              "       [-0.87724483],\n",
              "       [-1.6221006 ],\n",
              "       [-0.9711389 ]], dtype=float32)>"
            ]
          },
          "metadata": {},
          "execution_count": 3
        }
      ]
    },
    {
      "cell_type": "code",
      "source": [
        "tf.math.multiply(y_prev, r)"
      ],
      "metadata": {
        "colab": {
          "base_uri": "https://localhost:8080/"
        },
        "id": "nj90K3gQ26au",
        "outputId": "a469ce08-59e4-4138-ae5c-4333c517b130"
      },
      "execution_count": null,
      "outputs": [
        {
          "output_type": "execute_result",
          "data": {
            "text/plain": [
              "<tf.Tensor: shape=(10, 1), dtype=float32, numpy=\n",
              "array([[-0.41086623],\n",
              "       [-0.        ],\n",
              "       [ 0.        ],\n",
              "       [-0.        ],\n",
              "       [-0.        ],\n",
              "       [ 0.        ],\n",
              "       [ 0.        ],\n",
              "       [-0.        ],\n",
              "       [-0.        ],\n",
              "       [-0.        ]], dtype=float32)>"
            ]
          },
          "metadata": {},
          "execution_count": 4
        }
      ]
    },
    {
      "cell_type": "code",
      "source": [
        ""
      ],
      "metadata": {
        "id": "hgfcKUH93AFV"
      },
      "execution_count": null,
      "outputs": []
    },
    {
      "cell_type": "markdown",
      "source": [
        "# Dropout layer"
      ],
      "metadata": {
        "id": "PN3BUgOF3XoV"
      }
    },
    {
      "cell_type": "code",
      "metadata": {
        "id": "CEPIgOQ-6iCb"
      },
      "source": [
        "from tensorflow import keras"
      ],
      "execution_count": null,
      "outputs": []
    },
    {
      "cell_type": "code",
      "metadata": {
        "id": "HpJCdOL8JVY8"
      },
      "source": [
        "model = keras.models.Sequential([\n",
        "    keras.layers.Flatten(input_shape=[28, 28]),\n",
        "    keras.layers.Dropout(rate=0.5),\n",
        "    keras.layers.Dense(300, activation=\"elu\", kernel_initializer=\"he_normal\"),\n",
        "    keras.layers.Dropout(rate=0.5),\n",
        "    keras.layers.Dense(100, activation=\"elu\", kernel_initializer=\"he_normal\"),\n",
        "    keras.layers.Dropout(rate=0.5),\n",
        "    keras.layers.Dense(10, activation=\"softmax\")\n",
        "])\n",
        "model.compile(loss=\"sparse_categorical_crossentropy\", optimizer=\"nadam\", metrics=[\"accuracy\"])\n",
        "# n_epochs = 2\n",
        "# history = model.fit(X_train_scaled, y_train, epochs=n_epochs,\n",
        "#                     validation_data=(X_valid_scaled, y_valid))"
      ],
      "execution_count": null,
      "outputs": []
    },
    {
      "cell_type": "code",
      "metadata": {
        "colab": {
          "base_uri": "https://localhost:8080/"
        },
        "id": "6FtEAJ3idk2j",
        "outputId": "2340fa11-b4c7-4e49-b136-e81b2f7e9509"
      },
      "source": [
        "model.summary()\n"
      ],
      "execution_count": null,
      "outputs": [
        {
          "output_type": "stream",
          "name": "stdout",
          "text": [
            "Model: \"sequential\"\n",
            "_________________________________________________________________\n",
            " Layer (type)                Output Shape              Param #   \n",
            "=================================================================\n",
            " flatten (Flatten)           (None, 784)               0         \n",
            "                                                                 \n",
            " dropout (Dropout)           (None, 784)               0         \n",
            "                                                                 \n",
            " dense (Dense)               (None, 300)               235500    \n",
            "                                                                 \n",
            " dropout_1 (Dropout)         (None, 300)               0         \n",
            "                                                                 \n",
            " dense_1 (Dense)             (None, 100)               30100     \n",
            "                                                                 \n",
            " dropout_2 (Dropout)         (None, 100)               0         \n",
            "                                                                 \n",
            " dense_2 (Dense)             (None, 10)                1010      \n",
            "                                                                 \n",
            "=================================================================\n",
            "Total params: 266,610\n",
            "Trainable params: 266,610\n",
            "Non-trainable params: 0\n",
            "_________________________________________________________________\n"
          ]
        }
      ]
    },
    {
      "cell_type": "code",
      "source": [
        "layer = tf.keras.layers.Dropout(.3, input_shape=(1,))"
      ],
      "metadata": {
        "id": "Ib6arHEM38qV"
      },
      "execution_count": null,
      "outputs": []
    },
    {
      "cell_type": "code",
      "source": [
        "layer"
      ],
      "metadata": {
        "colab": {
          "base_uri": "https://localhost:8080/"
        },
        "id": "Xk5PzrXS4cNy",
        "outputId": "80d85860-478b-4c04-a00b-1e9a004cb46c"
      },
      "execution_count": null,
      "outputs": [
        {
          "output_type": "execute_result",
          "data": {
            "text/plain": [
              "<keras.layers.core.dropout.Dropout at 0x7f59a468bc50>"
            ]
          },
          "metadata": {},
          "execution_count": 9
        }
      ]
    },
    {
      "cell_type": "code",
      "source": [
        "data = tf.random.normal((10,1))\n",
        "data"
      ],
      "metadata": {
        "colab": {
          "base_uri": "https://localhost:8080/"
        },
        "id": "p-dGEk4t4DcP",
        "outputId": "12666b67-9c6f-4853-b0f2-891461ad7a16"
      },
      "execution_count": null,
      "outputs": [
        {
          "output_type": "execute_result",
          "data": {
            "text/plain": [
              "<tf.Tensor: shape=(10, 1), dtype=float32, numpy=\n",
              "array([[-1.8717328 ],\n",
              "       [-0.3042993 ],\n",
              "       [ 1.1353676 ],\n",
              "       [-2.7305198 ],\n",
              "       [-0.27882499],\n",
              "       [-0.88339365],\n",
              "       [-1.260125  ],\n",
              "       [-1.4305468 ],\n",
              "       [ 0.13017027],\n",
              "       [-0.16652448]], dtype=float32)>"
            ]
          },
          "metadata": {},
          "execution_count": 10
        }
      ]
    },
    {
      "cell_type": "code",
      "source": [
        "layer(data, training=True)"
      ],
      "metadata": {
        "colab": {
          "base_uri": "https://localhost:8080/"
        },
        "id": "Rb1XbBLW4Z5W",
        "outputId": "ae5dacc0-ccab-4cc3-c116-5081bc77f3bd"
      },
      "execution_count": null,
      "outputs": [
        {
          "output_type": "execute_result",
          "data": {
            "text/plain": [
              "<tf.Tensor: shape=(10, 1), dtype=float32, numpy=\n",
              "array([[-2.6739042 ],\n",
              "       [-0.        ],\n",
              "       [ 1.6219538 ],\n",
              "       [-3.9007425 ],\n",
              "       [-0.39832142],\n",
              "       [-0.        ],\n",
              "       [-1.8001786 ],\n",
              "       [-0.        ],\n",
              "       [ 0.        ],\n",
              "       [-0.23789212]], dtype=float32)>"
            ]
          },
          "metadata": {},
          "execution_count": 11
        }
      ]
    },
    {
      "cell_type": "code",
      "source": [
        "l = tf.keras.layers.Dropout(.1, input_shape=(1,))"
      ],
      "metadata": {
        "id": "Xdscrw1Q4lZr"
      },
      "execution_count": null,
      "outputs": []
    },
    {
      "cell_type": "code",
      "source": [
        "d = tf.ones((10,1))*5\n",
        "d"
      ],
      "metadata": {
        "colab": {
          "base_uri": "https://localhost:8080/"
        },
        "id": "SfTKnlxM7_MT",
        "outputId": "2f69a1d2-9e39-43ee-d9a5-38b66824163d"
      },
      "execution_count": null,
      "outputs": [
        {
          "output_type": "execute_result",
          "data": {
            "text/plain": [
              "<tf.Tensor: shape=(10, 1), dtype=float32, numpy=\n",
              "array([[5.],\n",
              "       [5.],\n",
              "       [5.],\n",
              "       [5.],\n",
              "       [5.],\n",
              "       [5.],\n",
              "       [5.],\n",
              "       [5.],\n",
              "       [5.],\n",
              "       [5.]], dtype=float32)>"
            ]
          },
          "metadata": {},
          "execution_count": 13
        }
      ]
    },
    {
      "cell_type": "code",
      "source": [
        "l(d, training=True)"
      ],
      "metadata": {
        "colab": {
          "base_uri": "https://localhost:8080/"
        },
        "id": "GDZA7jf98FM5",
        "outputId": "9d9e829d-43cf-4658-8a45-f6d20f186a20"
      },
      "execution_count": null,
      "outputs": [
        {
          "output_type": "execute_result",
          "data": {
            "text/plain": [
              "<tf.Tensor: shape=(10, 1), dtype=float32, numpy=\n",
              "array([[5.555556],\n",
              "       [5.555556],\n",
              "       [5.555556],\n",
              "       [5.555556],\n",
              "       [5.555556],\n",
              "       [5.555556],\n",
              "       [0.      ],\n",
              "       [5.555556],\n",
              "       [0.      ],\n",
              "       [5.555556]], dtype=float32)>"
            ]
          },
          "metadata": {},
          "execution_count": 14
        }
      ]
    },
    {
      "cell_type": "code",
      "source": [
        "5*(1/(1-0.1))"
      ],
      "metadata": {
        "colab": {
          "base_uri": "https://localhost:8080/"
        },
        "id": "a_tPU9B_8Kbs",
        "outputId": "7619544d-035c-4c87-bd18-832d948a00a9"
      },
      "execution_count": null,
      "outputs": [
        {
          "output_type": "execute_result",
          "data": {
            "text/plain": [
              "5.555555555555555"
            ]
          },
          "metadata": {},
          "execution_count": 15
        }
      ]
    },
    {
      "cell_type": "code",
      "source": [
        ""
      ],
      "metadata": {
        "id": "r2N9AJR48QrW"
      },
      "execution_count": null,
      "outputs": []
    }
  ]
}